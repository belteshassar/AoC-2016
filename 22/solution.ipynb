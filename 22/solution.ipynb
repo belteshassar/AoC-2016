{
 "cells": [
  {
   "cell_type": "markdown",
   "metadata": {},
   "source": [
    "# Advent of Code 2016\n",
    "\n",
    "## Day 22: Grid Computing"
   ]
  },
  {
   "cell_type": "code",
   "execution_count": 1,
   "metadata": {
    "collapsed": true
   },
   "outputs": [],
   "source": [
    "from collections import namedtuple\n",
    "import re\n",
    "\n",
    "import matplotlib.pyplot as plt\n",
    "import numpy as np\n",
    "\n",
    "%matplotlib inline"
   ]
  },
  {
   "cell_type": "markdown",
   "metadata": {},
   "source": [
    "### Solution Part One\n",
    "\n",
    "I start with defining a custom datatype for my nodes, just for convenience and to keep my sanity while coding. If you don't want any methods or state changes, `namedtuple` is great. They sort and hash just like regular tuples, but the fields have names."
   ]
  },
  {
   "cell_type": "code",
   "execution_count": 2,
   "metadata": {
    "collapsed": true
   },
   "outputs": [],
   "source": [
    "Node = namedtuple('Node', ('x', 'y', 'size', 'used', 'avail'))"
   ]
  },
  {
   "cell_type": "markdown",
   "metadata": {},
   "source": [
    "Mandatory horrific regex to parse the input."
   ]
  },
  {
   "cell_type": "code",
   "execution_count": 3,
   "metadata": {
    "collapsed": true
   },
   "outputs": [],
   "source": [
    "r = re.compile(r'[/a-z\\-]+(\\d+)-y(\\d+)\\s+(\\d+)T\\s+(\\d+)T\\s+(\\d+)T')"
   ]
  },
  {
   "cell_type": "markdown",
   "metadata": {},
   "source": [
    "Just put all the inputs into a single list."
   ]
  },
  {
   "cell_type": "code",
   "execution_count": 4,
   "metadata": {
    "collapsed": true
   },
   "outputs": [],
   "source": [
    "nodes = []\n",
    "with open('input.txt') as f:\n",
    "    for line in f:\n",
    "        m = r.match(line)\n",
    "        if m:\n",
    "            node = Node(*map(int, m.groups()))\n",
    "            nodes.append(node)"
   ]
  },
  {
   "cell_type": "markdown",
   "metadata": {},
   "source": [
    "Find the **viable pairs**."
   ]
  },
  {
   "cell_type": "code",
   "execution_count": 5,
   "metadata": {
    "collapsed": false
   },
   "outputs": [
    {
     "name": "stdout",
     "output_type": "stream",
     "text": [
      "Answer Part One: 860\n"
     ]
    }
   ],
   "source": [
    "nodes_by_used = sorted(nodes, key=lambda n: n.used)\n",
    "nodes_by_avail = sorted(nodes, key=lambda n: n.avail)\n",
    "\n",
    "n_pairs = 0\n",
    "for a in nodes_by_used:\n",
    "    if a.used == 0:\n",
    "        continue\n",
    "    for b in reversed(nodes_by_avail):\n",
    "        if a is b:\n",
    "            continue\n",
    "        if a.used > b.avail:\n",
    "            break\n",
    "        n_pairs += 1\n",
    "\n",
    "print('Answer Part One:', n_pairs)"
   ]
  },
  {
   "cell_type": "markdown",
   "metadata": {},
   "source": [
    "### Solution Part Two\n",
    "\n",
    "I quickly noticed that - apart from some huge, essentially immobile, nodes and one empty node - all nodes were larger than 80T and contained less than 80T of data. Great! It seems that we can make the same simplification as in the example. Let's print the grid to see what we have."
   ]
  },
  {
   "cell_type": "code",
   "execution_count": 6,
   "metadata": {
    "collapsed": false
   },
   "outputs": [
    {
     "name": "stdout",
     "output_type": "stream",
     "text": [
      "\n",
      ". . . . . . . . . . . . . . . . . . . . . . . . . . . . . . . . . . . \n",
      ". . . . . . . . . . . . . . . . . . . . . . . . . . . . . . . . . . . \n",
      ". . . . . . . . . . . . . . . . . . . . . . . . . . . . . . . . . . . \n",
      ". . . . . . . . . . . . . . . . . . . . . . . . . . . . . . . . . . . \n",
      ". . . . . . . . . . . . . . . . . . . . . . . . . . . . . . . . . . . \n",
      ". . . . . . . . . . . . . . . . . . . . . . . . . . . . . . . . . . . \n",
      ". . . . . . . . . . . . . . . . . . . . . . . . . . . . . . . . . . . \n",
      ". . . . . . . . . . . . . . . . . . . . . . . . . . . . . . . . . . . \n",
      ". . . . . . . . . . . . . . . . . . . . . . . . . . . . . . . . . . . \n",
      ". . . . . . . . . . . . . . . . . . . . . . . . . . . . . . . . . . . \n",
      ". . . . . . . . . . . . . . . . . . . . . . . . . . . . . . . . . . . \n",
      ". . . . . . . . . . . . . . . . . . . . . # # # # # # # # # # # # # # \n",
      ". . . . . . . . . . . . . . . . . . . . . . . . . . . . . . . . . . . \n",
      ". . . . . . . . . . . . . . . . . . . . . . . . . . . . . . . . . . . \n",
      ". . . . . . . . . . . . . . . . . . . . . . . . . . . _ . . . . . . . \n",
      ". . . . . . . . . . . . . . . . . . . . . . . . . . . . . . . . . . . \n",
      ". . . . . . . . . . . . . . . . . . . . . . . . . . . . . . . . . . . \n",
      ". . . . . . . . . . . . . . . . . . . . . . . . . . . . . . . . . . . \n",
      ". . . . . . . . . . . . . . . . . . . . . . . . . . . . . . . . . . . \n",
      ". . . . . . . . . . . . . . . . . . . . . . . . . . . . . . . . . . . \n",
      ". . . . . . . . . . . . . . . . . . . . . . . . . . . . . . . . . . . \n",
      ". . . . . . . . . . . . . . . . . . . . . . . . . . . . . . . . . . . \n",
      ". . . . . . . . . . . . . . . . . . . . . . . . . . . . . . . . . . . \n",
      ". . . . . . . . . . . . . . . . . . . . . . . . . . . . . . . . . . . \n",
      ". . . . . . . . . . . . . . . . . . . . . . . . . . . . . . . . . . . "
     ]
    }
   ],
   "source": [
    "for node in sorted(nodes, key=lambda n: (n.y, n.x)):\n",
    "    if node.x == 0:\n",
    "        print()  # New line\n",
    "    if node.used > 200:\n",
    "        print('#', end=' ')\n",
    "    elif node.used == 0 and node.size > 80:\n",
    "        print('_', end=' ')\n",
    "    elif 0 < node.used < 80 and node.size > 80:\n",
    "        print('.', end=' ')\n",
    "    else:\n",
    "        # This should never run if the assumption is correct\n",
    "        print('?', end=' ')\n"
   ]
  },
  {
   "cell_type": "markdown",
   "metadata": {},
   "source": [
    "By now it is clear that apart from the immobile row, any data fits anywhere. So, first we need to move the hole to `node-x27-y14` to `node-x33-y0`. To do this, we need to move the hole to `node-x20-y11` in order to avoid the immobile row. This takes 7 + 3 = 10 steps. Then the path is clear and we get to `node-x33-y0` after another 13 + 11 = 24 steps. Then move the Goal data to `node-x33-y0`.\n",
    "\n",
    "From this point, we follow the scheme described in the example. To move the Goal data from `node-x(n)-y0` to `node-x(n-1)-y0`, first move the hole to `node-x(n-1)-y0`, avoiding the goal data and then move the goal data. Each iteration takes 5 steps. All in all 33x5.\n",
    "\n",
    "Thus, the number of steps needed is 10 + 24 + 1 + 33 x 5 = 200."
   ]
  },
  {
   "cell_type": "code",
   "execution_count": 7,
   "metadata": {
    "collapsed": false,
    "scrolled": true
   },
   "outputs": [
    {
     "data": {
      "text/plain": [
       "200"
      ]
     },
     "execution_count": 7,
     "metadata": {},
     "output_type": "execute_result"
    }
   ],
   "source": [
    "10 + 24 + 1 + 33*5"
   ]
  }
 ],
 "metadata": {
  "anaconda-cloud": {},
  "kernelspec": {
   "display_name": "Python [default]",
   "language": "python",
   "name": "python3"
  },
  "language_info": {
   "codemirror_mode": {
    "name": "ipython",
    "version": 3
   },
   "file_extension": ".py",
   "mimetype": "text/x-python",
   "name": "python",
   "nbconvert_exporter": "python",
   "pygments_lexer": "ipython3",
   "version": "3.5.2"
  }
 },
 "nbformat": 4,
 "nbformat_minor": 1
}
