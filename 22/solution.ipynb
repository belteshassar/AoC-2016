{
 "cells": [
  {
   "cell_type": "markdown",
   "metadata": {},
   "source": [
    "# Advent of Code 2016\n",
    "\n",
    "## Day 22: Grid Computing\n",
    "\n",
    "### Part One\n",
    "\n",
    "You gain access to a massive storage cluster arranged in a grid; each storage node is only connected to the four nodes directly adjacent to it (three if the node is on an edge, two if it's in a corner).\n",
    "\n",
    "You can directly access data only on node `/dev/grid/node-x0-y0`, but you can perform some limited actions on the other nodes:\n",
    "\n",
    "- You can get the disk usage of all nodes (via `df`). The result of doing this is in your puzzle input.\n",
    "- You can instruct a node to move (not copy) all of its data to an adjacent node (if the destination node has enough space to receive the data). The sending node is left empty after this operation.\n",
    "\n",
    "Nodes are named by their position: the node named `node-x10-y10` is adjacent to nodes `node-x9-y10`, `node-x11-y10`, `node-x10-y9`, and `node-x10-y11`.\n",
    "\n",
    "Before you begin, you need to understand the arrangement of data on these nodes. Even though you can only move data between directly connected nodes, you're going to need to rearrange a lot of the data to get access to the data you need. Therefore, you need to work out how you might be able to shift data around.\n",
    "\n",
    "To do this, you'd like to count the number of viable pairs of nodes. A viable pair is any two nodes (A,B), regardless of whether they are directly connected, such that:\n",
    "\n",
    "- Node A is not empty (its `Used` is not zero).\n",
    "- Nodes A and B are not the same node.\n",
    "- The data on node A (its `Used`) would fit on node B (its `Avail`).\n",
    "\n",
    "How many viable pairs of nodes are there?"
   ]
  },
  {
   "cell_type": "code",
   "execution_count": 1,
   "metadata": {
    "collapsed": true
   },
   "outputs": [],
   "source": [
    "from collections import namedtuple\n",
    "import re\n",
    "\n",
    "import matplotlib.pyplot as plt\n",
    "import numpy as np\n",
    "\n",
    "%matplotlib inline"
   ]
  },
  {
   "cell_type": "markdown",
   "metadata": {},
   "source": [
    "### Solution Part One\n",
    "\n",
    "I start with defining a custom datatype for my nodes, just for convenience and to keep my sanity while coding. If you don't want any methods or state changes, `namedtuple` is great. They sort and hash just like regular tuples, but the fields have names."
   ]
  },
  {
   "cell_type": "code",
   "execution_count": 2,
   "metadata": {
    "collapsed": true
   },
   "outputs": [],
   "source": [
    "Node = namedtuple('Node', ('x', 'y', 'size', 'used', 'avail'))"
   ]
  },
  {
   "cell_type": "markdown",
   "metadata": {},
   "source": [
    "Mandatory horrific regex to parse the input."
   ]
  },
  {
   "cell_type": "code",
   "execution_count": 3,
   "metadata": {
    "collapsed": true
   },
   "outputs": [],
   "source": [
    "r = re.compile(r'[/a-z\\-]+(\\d+)-y(\\d+)\\s+(\\d+)T\\s+(\\d+)T\\s+(\\d+)T')"
   ]
  },
  {
   "cell_type": "markdown",
   "metadata": {},
   "source": [
    "Just put all the inputs into a single list."
   ]
  },
  {
   "cell_type": "code",
   "execution_count": 4,
   "metadata": {
    "collapsed": true
   },
   "outputs": [],
   "source": [
    "nodes = []\n",
    "with open('input.txt') as f:\n",
    "    for line in f:\n",
    "        m = r.match(line)\n",
    "        if m:\n",
    "            node = Node(*map(int, m.groups()))\n",
    "            nodes.append(node)"
   ]
  },
  {
   "cell_type": "markdown",
   "metadata": {},
   "source": [
    "Find the **viable pairs**."
   ]
  },
  {
   "cell_type": "code",
   "execution_count": 5,
   "metadata": {
    "collapsed": false
   },
   "outputs": [
    {
     "name": "stdout",
     "output_type": "stream",
     "text": [
      "Answer Part One: 860\n"
     ]
    }
   ],
   "source": [
    "nodes_by_used = sorted(nodes, key=lambda n: n.used)\n",
    "nodes_by_avail = sorted(nodes, key=lambda n: n.avail)\n",
    "\n",
    "n_pairs = 0\n",
    "for a in nodes_by_used:\n",
    "    if a.used == 0:\n",
    "        continue\n",
    "    for b in reversed(nodes_by_avail):\n",
    "        if a is b:\n",
    "            continue\n",
    "        if a.used > b.avail:\n",
    "            break\n",
    "        n_pairs += 1\n",
    "\n",
    "print('Answer Part One:', n_pairs)"
   ]
  },
  {
   "cell_type": "markdown",
   "metadata": {},
   "source": [
    "### Part Two\n",
    "\n",
    "Now that you have a better understanding of the grid, it's time to get to work.\n",
    "\n",
    "Your goal is to gain access to the data which begins in the node with `y=0` and the highest `x` (that is, the node in the top-right corner).\n",
    "\n",
    "For example, suppose you have the following grid:\n",
    "\n",
    "```\n",
    "Filesystem            Size  Used  Avail  Use%\n",
    "/dev/grid/node-x0-y0   10T    8T     2T   80%\n",
    "/dev/grid/node-x0-y1   11T    6T     5T   54%\n",
    "/dev/grid/node-x0-y2   32T   28T     4T   87%\n",
    "/dev/grid/node-x1-y0    9T    7T     2T   77%\n",
    "/dev/grid/node-x1-y1    8T    0T     8T    0%\n",
    "/dev/grid/node-x1-y2   11T    7T     4T   63%\n",
    "/dev/grid/node-x2-y0   10T    6T     4T   60%\n",
    "/dev/grid/node-x2-y1    9T    8T     1T   88%\n",
    "/dev/grid/node-x2-y2    9T    6T     3T   66%\n",
    "```\n",
    "\n",
    "In this example, you have a storage grid 3 nodes wide and 3 nodes tall. The node you can access directly, `node-x0-y0`, is almost full. The node containing the data you want to access, `node-x2-y0` (because it has `y=0` and the highest `x` value), contains 6 terabytes of data - enough to fit on your node, if only you could make enough space to move it there.\n",
    "\n",
    "Fortunately, `node-x1-y1` looks like it has enough free space to enable you to move some of this data around. In fact, it seems like all of the nodes have enough space to hold any node's data (except `node-x0-y2`, which is much larger, very full, and not moving any time soon). So, initially, the grid's capacities and connections look like this:\n",
    "\n",
    "```\n",
    "( 8T/10T) --  7T/ 9T -- [ 6T/10T]\n",
    "    |           |           |\n",
    "  6T/11T  --  0T/ 8T --   8T/ 9T\n",
    "    |           |           |\n",
    " 28T/32T  --  7T/11T --   6T/ 9T\n",
    "```\n",
    "\n",
    "The node you can access directly is in parentheses; the data you want starts in the node marked by square brackets.\n",
    "\n",
    "In this example, most of the nodes are interchangable: they're full enough that no other node's data would fit, but small enough that their data could be moved around. Let's draw these nodes as `.`. The exceptions are the empty node, which we'll draw as `_`, and the very large, very full node, which we'll draw as `#`. Let's also draw the goal data as `G`. Then, it looks like this:\n",
    "\n",
    "```\n",
    "(.) .  G\n",
    " .  _  .\n",
    " #  .  .\n",
    "```\n",
    "\n",
    "The goal is to move the data in the top right, `G`, to the node in parentheses. To do this, we can issue some commands to the grid and rearrange the data:\n",
    "\n",
    "- Move data from `node-y0-x1` to `node-y1-x1`, leaving `node-y0-x1` empty:\n",
    "```\n",
    "(.) _  G\n",
    " .  .  .\n",
    " #  .  .\n",
    "```\n",
    "- Move the goal data from `node-y0-x2` to `node-y0-x1`:\n",
    "```\n",
    "(.) G  _\n",
    " .  .  .\n",
    " #  .  .\n",
    "```\n",
    "- At this point, we're quite close. However, we have no deletion command, so we have to move some more data around. So, next, we move the data from `node-y1-x2` to `node-y0-x2`:\n",
    "```\n",
    "(.) G  .\n",
    " .  .  _\n",
    " #  .  .\n",
    "```\n",
    "- Move the data from `node-y1-x1` to `node-y1-x2`:\n",
    "```\n",
    "(.) G  .\n",
    " .  _  .\n",
    " #  .  .\n",
    "```\n",
    "- Move the data from `node-y1-x0` to `node-y1-x1`:\n",
    "```\n",
    "(.) G  .\n",
    " _  .  .\n",
    " #  .  .\n",
    "```\n",
    "- Next, we can free up space on our node by moving the data from `node-y0-x0` to `node-y1-x0`:\n",
    "```\n",
    "(_) G  .\n",
    " .  .  .\n",
    " #  .  .\n",
    "```\n",
    "- Finally, we can access the goal data by moving the it from `node-y0-x1` to `node-y0-x0`:\n",
    "```\n",
    "(G) _  .\n",
    " .  .  .\n",
    " #  .  .\n",
    "```\n",
    "\n",
    "So, after 7 steps, we've accessed the data we want. Unfortunately, each of these moves takes time, and we need to be efficient:\n",
    "\n",
    "What is the fewest number of steps required to move your goal data to `node-x0-y0`?\n"
   ]
  },
  {
   "cell_type": "markdown",
   "metadata": {},
   "source": [
    "### Solution Part Two\n",
    "\n",
    "I quickly noticed that - apart from some huge, essentially immobile, nodes and one empty node - all nodes were larger than 80T and contained less than 80T of data. Great! It seems that we can make the same simpleification as in the example. Let's print the grid to see what we have."
   ]
  },
  {
   "cell_type": "code",
   "execution_count": 6,
   "metadata": {
    "collapsed": false
   },
   "outputs": [
    {
     "name": "stdout",
     "output_type": "stream",
     "text": [
      "\n",
      ". . . . . . . . . . . . . . . . . . . . . . . . . . . . . . . . . . . \n",
      ". . . . . . . . . . . . . . . . . . . . . . . . . . . . . . . . . . . \n",
      ". . . . . . . . . . . . . . . . . . . . . . . . . . . . . . . . . . . \n",
      ". . . . . . . . . . . . . . . . . . . . . . . . . . . . . . . . . . . \n",
      ". . . . . . . . . . . . . . . . . . . . . . . . . . . . . . . . . . . \n",
      ". . . . . . . . . . . . . . . . . . . . . . . . . . . . . . . . . . . \n",
      ". . . . . . . . . . . . . . . . . . . . . . . . . . . . . . . . . . . \n",
      ". . . . . . . . . . . . . . . . . . . . . . . . . . . . . . . . . . . \n",
      ". . . . . . . . . . . . . . . . . . . . . . . . . . . . . . . . . . . \n",
      ". . . . . . . . . . . . . . . . . . . . . . . . . . . . . . . . . . . \n",
      ". . . . . . . . . . . . . . . . . . . . . . . . . . . . . . . . . . . \n",
      ". . . . . . . . . . . . . . . . . . . . . # # # # # # # # # # # # # # \n",
      ". . . . . . . . . . . . . . . . . . . . . . . . . . . . . . . . . . . \n",
      ". . . . . . . . . . . . . . . . . . . . . . . . . . . . . . . . . . . \n",
      ". . . . . . . . . . . . . . . . . . . . . . . . . . . _ . . . . . . . \n",
      ". . . . . . . . . . . . . . . . . . . . . . . . . . . . . . . . . . . \n",
      ". . . . . . . . . . . . . . . . . . . . . . . . . . . . . . . . . . . \n",
      ". . . . . . . . . . . . . . . . . . . . . . . . . . . . . . . . . . . \n",
      ". . . . . . . . . . . . . . . . . . . . . . . . . . . . . . . . . . . \n",
      ". . . . . . . . . . . . . . . . . . . . . . . . . . . . . . . . . . . \n",
      ". . . . . . . . . . . . . . . . . . . . . . . . . . . . . . . . . . . \n",
      ". . . . . . . . . . . . . . . . . . . . . . . . . . . . . . . . . . . \n",
      ". . . . . . . . . . . . . . . . . . . . . . . . . . . . . . . . . . . \n",
      ". . . . . . . . . . . . . . . . . . . . . . . . . . . . . . . . . . . \n",
      ". . . . . . . . . . . . . . . . . . . . . . . . . . . . . . . . . . . "
     ]
    }
   ],
   "source": [
    "for node in sorted(nodes, key=lambda n: (n.y, n.x)):\n",
    "    if node.x == 0:\n",
    "        print()  # New line\n",
    "    if node.used > 200:\n",
    "        print('#', end=' ')\n",
    "    elif node.used == 0 and node.size > 80:\n",
    "        print('_', end=' ')\n",
    "    elif 0 < node.used < 80 and node.size > 80:\n",
    "        print('.', end=' ')\n",
    "    else:\n",
    "        # This should never run if the assumption is correct\n",
    "        print('?', end=' ')\n"
   ]
  },
  {
   "cell_type": "markdown",
   "metadata": {},
   "source": [
    "By now it is clear that apart from the immobile row, any data fits anywhere. So, first we need to move the hole to `node-x27-y14` to `node-x33-y0`. To do this, we need to move the hole to `node-x20-y11` in order to avoid the immobile row. This takes 7 + 3 = 10 steps. Then the path is clear and we get to `node-x33-y0` after another 13 + 11 = 24 steps. Then move the Goal data to `node-x33-y0`.\n",
    "\n",
    "From this point, we follow the scheme described in the example. To move the Goal data from `node-x(n)-y0` to `node-x(n-1)-y0`, first move the hole to `node-x(n-1)-y0`, avoiding the goal data and then move the goal data. Each iteration takes 5 steps. All in all 33x5.\n",
    "\n",
    "Thus, the number of steps needed is 10 + 24 + 1 + 33 x 5 = 200."
   ]
  },
  {
   "cell_type": "code",
   "execution_count": 7,
   "metadata": {
    "collapsed": false,
    "scrolled": true
   },
   "outputs": [
    {
     "data": {
      "text/plain": [
       "200"
      ]
     },
     "execution_count": 7,
     "metadata": {},
     "output_type": "execute_result"
    }
   ],
   "source": [
    "10 + 24 + 1 + 33*5"
   ]
  }
 ],
 "metadata": {
  "anaconda-cloud": {},
  "kernelspec": {
   "display_name": "Python [default]",
   "language": "python",
   "name": "python3"
  },
  "language_info": {
   "codemirror_mode": {
    "name": "ipython",
    "version": 3
   },
   "file_extension": ".py",
   "mimetype": "text/x-python",
   "name": "python",
   "nbconvert_exporter": "python",
   "pygments_lexer": "ipython3",
   "version": "3.5.2"
  }
 },
 "nbformat": 4,
 "nbformat_minor": 1
}
